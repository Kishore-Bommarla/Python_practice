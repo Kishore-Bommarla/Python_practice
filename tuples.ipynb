{
 "cells": [
  {
   "cell_type": "code",
   "execution_count": 1,
   "id": "df2d2fd1-e2f2-4bc7-b523-6b3641ed1ff1",
   "metadata": {},
   "outputs": [
    {
     "name": "stdout",
     "output_type": "stream",
     "text": [
      "10\n",
      "20\n",
      "Kishore\n"
     ]
    }
   ],
   "source": [
    "#Tuples in Python\n",
    "my_tuple=(10,20,\"Kishore\")\n",
    "print(my_tuple[0])\n",
    "print(my_tuple[1])\n",
    "print(my_tuple[2])"
   ]
  },
  {
   "cell_type": "code",
   "execution_count": 2,
   "id": "6858bb61-b0be-4e43-b062-cd152dd1fec8",
   "metadata": {},
   "outputs": [
    {
     "name": "stdout",
     "output_type": "stream",
     "text": [
      "3\n"
     ]
    }
   ],
   "source": [
    "#Tuple Functions\n",
    "a = (10, 20, 'Kishore')\n",
    "print(len(a))"
   ]
  },
  {
   "cell_type": "code",
   "execution_count": 4,
   "id": "4cd4316d-56a7-477d-bb95-d7801c3c12e3",
   "metadata": {},
   "outputs": [
    {
     "name": "stdout",
     "output_type": "stream",
     "text": [
      "1\n"
     ]
    }
   ],
   "source": [
    "a = (10, 20, 'Kishore',\"Divya\")\n",
    "print(a.count(10)) "
   ]
  },
  {
   "cell_type": "code",
   "execution_count": 7,
   "id": "d60f5df1-b579-4239-8692-8137d6f0dc52",
   "metadata": {},
   "outputs": [
    {
     "name": "stdout",
     "output_type": "stream",
     "text": [
      "1\n"
     ]
    }
   ],
   "source": [
    "a = (10, 20, 'Kishore',\"Divya\")\n",
    "print(a.index(20))"
   ]
  },
  {
   "cell_type": "code",
   "execution_count": 10,
   "id": "5216a671-8686-4940-bc19-6508142925e3",
   "metadata": {},
   "outputs": [
    {
     "name": "stdout",
     "output_type": "stream",
     "text": [
      "(20, 30, 40, 50)\n"
     ]
    }
   ],
   "source": [
    "#Slicing Tuples\n",
    "a=(10,20,30,40,50)\n",
    "print(a[1:5])"
   ]
  },
  {
   "cell_type": "code",
   "execution_count": 11,
   "id": "049cb1a4-1a8f-43f1-a6a0-c8d8e3c42c22",
   "metadata": {},
   "outputs": [
    {
     "name": "stdout",
     "output_type": "stream",
     "text": [
      "(1, 2, 3, 4)\n",
      "2\n"
     ]
    }
   ],
   "source": [
    "#Handling Mixed Data Types\n",
    "nested_tuple = (10, 'kishore', (1, 2, 3,4))\n",
    "print(nested_tuple[2])       \n",
    "print(nested_tuple[2][1])  "
   ]
  }
 ],
 "metadata": {
  "kernelspec": {
   "display_name": "Python 3 (ipykernel)",
   "language": "python",
   "name": "python3"
  },
  "language_info": {
   "codemirror_mode": {
    "name": "ipython",
    "version": 3
   },
   "file_extension": ".py",
   "mimetype": "text/x-python",
   "name": "python",
   "nbconvert_exporter": "python",
   "pygments_lexer": "ipython3",
   "version": "3.12.7"
  }
 },
 "nbformat": 4,
 "nbformat_minor": 5
}
