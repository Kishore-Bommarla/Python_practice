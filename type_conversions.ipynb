{
 "cells": [
  {
   "cell_type": "code",
   "execution_count": 1,
   "id": "3a626c6e-b01d-4d3a-9f49-1930dcb326e9",
   "metadata": {},
   "outputs": [],
   "source": [
    "#Type Conversion in Python"
   ]
  },
  {
   "cell_type": "code",
   "execution_count": 3,
   "id": "5cf2be52-0d41-485a-80d4-ed161b34455a",
   "metadata": {},
   "outputs": [
    {
     "name": "stdout",
     "output_type": "stream",
     "text": [
      "[10, 20, 30]\n"
     ]
    }
   ],
   "source": [
    "t={10,20,30}\n",
    "print(list(t))"
   ]
  },
  {
   "cell_type": "code",
   "execution_count": 4,
   "id": "7670d6a3-82a1-4eee-b3e7-9368f4f8cc87",
   "metadata": {},
   "outputs": [
    {
     "name": "stdout",
     "output_type": "stream",
     "text": [
      "[10, 20, 30]\n"
     ]
    }
   ],
   "source": [
    "t=(10,20,30)\n",
    "print(list(t))"
   ]
  },
  {
   "cell_type": "code",
   "execution_count": 5,
   "id": "e41a8464-633e-44cc-8b34-e3b7ded0f8d6",
   "metadata": {},
   "outputs": [
    {
     "name": "stdout",
     "output_type": "stream",
     "text": [
      "(10, 20, 30)\n"
     ]
    }
   ],
   "source": [
    "t={10,20,30}\n",
    "print(tuple(t))"
   ]
  },
  {
   "cell_type": "code",
   "execution_count": 6,
   "id": "713a72db-d51f-4927-8c06-e19a2f95802b",
   "metadata": {},
   "outputs": [
    {
     "name": "stdout",
     "output_type": "stream",
     "text": [
      "(10, 20, 30)\n"
     ]
    }
   ],
   "source": [
    "t=[10,20,30]\n",
    "print(tuple(t))"
   ]
  },
  {
   "cell_type": "code",
   "execution_count": 9,
   "id": "3dc1b956-9127-41f2-9502-586a40f03f57",
   "metadata": {},
   "outputs": [
    {
     "name": "stdout",
     "output_type": "stream",
     "text": [
      "0o31\n",
      "0b11001\n",
      "0x19\n"
     ]
    }
   ],
   "source": [
    "#Binary, Octal, and Hexadecimal Conversions\n",
    "a=25\n",
    "print(oct(a))\n",
    "print(bin(a))\n",
    "print(hex(a))"
   ]
  },
  {
   "cell_type": "code",
   "execution_count": 12,
   "id": "d4ed248d-b96b-45e8-b4d1-adab1d8366f2",
   "metadata": {},
   "outputs": [
    {
     "name": "stdout",
     "output_type": "stream",
     "text": [
      "9\n"
     ]
    }
   ],
   "source": [
    "#Converting Back to Decimal\n",
    "a = \"1001\"\n",
    "print(int(a, 2)) "
   ]
  },
  {
   "cell_type": "code",
   "execution_count": 13,
   "id": "670e54f2-1500-43e3-9c8d-52fddacdd7b2",
   "metadata": {},
   "outputs": [
    {
     "name": "stdout",
     "output_type": "stream",
     "text": [
      "17\n"
     ]
    }
   ],
   "source": [
    "b=\"21\"\n",
    "print(int(b,8))"
   ]
  },
  {
   "cell_type": "code",
   "execution_count": 14,
   "id": "286e92d8-8e95-4894-a383-a303be348299",
   "metadata": {},
   "outputs": [
    {
     "name": "stdout",
     "output_type": "stream",
     "text": [
      "161\n"
     ]
    }
   ],
   "source": [
    "c=\"A1\"\n",
    "print(int(c,16))"
   ]
  },
  {
   "cell_type": "code",
   "execution_count": null,
   "id": "b4a442f5-4c2e-4dd3-aaea-e369aeac8143",
   "metadata": {},
   "outputs": [],
   "source": []
  }
 ],
 "metadata": {
  "kernelspec": {
   "display_name": "Python 3 (ipykernel)",
   "language": "python",
   "name": "python3"
  },
  "language_info": {
   "codemirror_mode": {
    "name": "ipython",
    "version": 3
   },
   "file_extension": ".py",
   "mimetype": "text/x-python",
   "name": "python",
   "nbconvert_exporter": "python",
   "pygments_lexer": "ipython3",
   "version": "3.12.7"
  }
 },
 "nbformat": 4,
 "nbformat_minor": 5
}
