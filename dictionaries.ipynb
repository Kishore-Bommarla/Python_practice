{
 "cells": [
  {
   "cell_type": "code",
   "execution_count": 2,
   "id": "a241a256-0bbf-4246-8a79-81a024e7af18",
   "metadata": {},
   "outputs": [
    {
     "name": "stdout",
     "output_type": "stream",
     "text": [
      "{10: 'Apple', 20: 'ball', 30: 'cat', 40: 'dog'}\n"
     ]
    }
   ],
   "source": [
    "#dictionaries\n",
    "d={10:\"Apple\",20:\"ball\",30:\"cat\",40:\"dog\"}\n",
    "print(d)"
   ]
  },
  {
   "cell_type": "code",
   "execution_count": 4,
   "id": "884b26c8-b00a-41af-96eb-080f409871a6",
   "metadata": {},
   "outputs": [
    {
     "name": "stdout",
     "output_type": "stream",
     "text": [
      "{10: 'dog', 20: 'ball', 30: 'cat', 40: 'apple', 70: 'elephant'}\n"
     ]
    }
   ],
   "source": [
    "#Creating and Using Dictionaries\n",
    "d={}\n",
    "d[10]=\"dog\"\n",
    "d[20]=\"ball\"\n",
    "d[30]=\"cat\"\n",
    "d[40]=\"apple\"\n",
    "d[70]=\"elephant\"\n",
    "print(d)"
   ]
  },
  {
   "cell_type": "code",
   "execution_count": 9,
   "id": "e461f1c8-47a2-451b-9b43-48b82ada0184",
   "metadata": {},
   "outputs": [
    {
     "name": "stdout",
     "output_type": "stream",
     "text": [
      "apple\n"
     ]
    }
   ],
   "source": [
    "d={10:\"apple\",20:\"ball\",30:\"cat\",40:\"dog\",50:\"elephant\",60:\"fish\"}\n",
    "print(d.get(10))"
   ]
  },
  {
   "cell_type": "code",
   "execution_count": 10,
   "id": "1ea9aa41-f4ae-4abf-939d-6b114823d05a",
   "metadata": {},
   "outputs": [],
   "source": [
    "#d={10:\"apple\",20:\"ball\",30:\"cat\",40:\"dog\",50:\"elephant\",60:\"fish\"}\n",
    "#print(d.get(\"apple\")             ^\n",
    "#SyntaxError: incomplete input"
   ]
  },
  {
   "cell_type": "code",
   "execution_count": 11,
   "id": "4e2afdd0-ff5c-4263-8b73-b1fe2750c450",
   "metadata": {},
   "outputs": [
    {
     "name": "stdout",
     "output_type": "stream",
     "text": [
      "None\n"
     ]
    }
   ],
   "source": [
    "d={10:\"apple\",20:\"ball\",30:\"cat\",40:\"dog\",50:\"elephant\",60:\"fish\"}\n",
    "print(d.get(25))#if the element is not present it returns \"None\" as output"
   ]
  },
  {
   "cell_type": "code",
   "execution_count": 13,
   "id": "85d710ee-8c96-4178-a7ff-977a5bfcb9a2",
   "metadata": {},
   "outputs": [
    {
     "name": "stdout",
     "output_type": "stream",
     "text": [
      "NA\n"
     ]
    }
   ],
   "source": [
    "d={10:\"apple\",20:\"ball\",30:\"cat\",40:\"dog\",50:\"elephant\",60:\"fish\"}\n",
    "print(d.get(25,\"NA\"))#note:NA should be in doublequotes if not it araises error"
   ]
  },
  {
   "cell_type": "code",
   "execution_count": 17,
   "id": "6eefe60c-e773-40af-bfd0-18f4f2f46315",
   "metadata": {},
   "outputs": [
    {
     "name": "stdout",
     "output_type": "stream",
     "text": [
      "ball\n"
     ]
    }
   ],
   "source": [
    "d={10:\"apple\",20:\"ball\",30:\"cat\",40:\"dog\",50:\"elephant\",60:\"fish\"}\n",
    "if 20 in d:\n",
    "    print(d[20])\n",
    "else:\n",
    "    print(\"NA\") "
   ]
  },
  {
   "cell_type": "code",
   "execution_count": 18,
   "id": "0bb9b8a8-ce38-4421-bf0b-278af1b1f397",
   "metadata": {},
   "outputs": [
    {
     "name": "stdout",
     "output_type": "stream",
     "text": [
      "NA\n"
     ]
    }
   ],
   "source": [
    "d={10:\"apple\",20:\"ball\",30:\"cat\",40:\"dog\",50:\"elephant\",60:\"fish\"}\n",
    "if 25 in d:\n",
    "    print(d[25])\n",
    "else:\n",
    "    print(\"NA\") "
   ]
  },
  {
   "cell_type": "code",
   "execution_count": 20,
   "id": "2099ce19-236c-4bfd-8ee3-574c7a63605f",
   "metadata": {},
   "outputs": [
    {
     "name": "stdout",
     "output_type": "stream",
     "text": [
      "{10: 'apple', 20: 'ball', 30: 'cat', 40: 'dog', 50: 'elephant', 60: 'fish', 70: 'giraffee'}\n"
     ]
    }
   ],
   "source": [
    "#Modifying Dictionaries\n",
    "d={10:\"apple\",20:\"ball\",30:\"cat\",40:\"dog\",50:\"elephant\",60:\"fish\"}\n",
    "d[70]=\"giraffee\"\n",
    "print(d)"
   ]
  },
  {
   "cell_type": "code",
   "execution_count": 21,
   "id": "0e0cb755-495a-47c5-b989-21bdd4da3399",
   "metadata": {},
   "outputs": [
    {
     "name": "stdout",
     "output_type": "stream",
     "text": [
      "{20: 'ball', 30: 'cat', 40: 'dog', 50: 'elephant', 60: 'fish'}\n"
     ]
    }
   ],
   "source": [
    "d={10:\"apple\",20:\"ball\",30:\"cat\",40:\"dog\",50:\"elephant\",60:\"fish\"}\n",
    "del d[10]\n",
    "print(d)"
   ]
  },
  {
   "cell_type": "code",
   "execution_count": 22,
   "id": "dc4ab841-fbdb-4b92-9adf-9af3114c6a21",
   "metadata": {},
   "outputs": [
    {
     "name": "stdout",
     "output_type": "stream",
     "text": [
      "(108, 'cde')\n"
     ]
    }
   ],
   "source": [
    "d={10:\"apple\",20:\"ball\",30:\"cat\",40:\"dog\",50:\"elephant\",60:\"fish\"}\n",
    "d[108] = \"cde\"\n",
    "print(d.popitem())  "
   ]
  },
  {
   "cell_type": "code",
   "execution_count": 23,
   "id": "86efcfdb-1365-4c94-9ae7-d6e1ab273514",
   "metadata": {},
   "outputs": [
    {
     "name": "stdout",
     "output_type": "stream",
     "text": [
      "ball\n"
     ]
    }
   ],
   "source": [
    "d={10:\"apple\",20:\"ball\",30:\"cat\",40:\"dog\",50:\"elephant\",60:\"fish\"}\n",
    "print(d.pop(20))  \t\t"
   ]
  }
 ],
 "metadata": {
  "kernelspec": {
   "display_name": "Python 3 (ipykernel)",
   "language": "python",
   "name": "python3"
  },
  "language_info": {
   "codemirror_mode": {
    "name": "ipython",
    "version": 3
   },
   "file_extension": ".py",
   "mimetype": "text/x-python",
   "name": "python",
   "nbconvert_exporter": "python",
   "pygments_lexer": "ipython3",
   "version": "3.12.7"
  }
 },
 "nbformat": 4,
 "nbformat_minor": 5
}
