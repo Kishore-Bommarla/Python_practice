{
 "cells": [
  {
   "cell_type": "code",
   "execution_count": 1,
   "id": "a4d91fc3-1d91-406a-ad51-cfb40be67370",
   "metadata": {},
   "outputs": [
    {
     "name": "stdout",
     "output_type": "stream",
     "text": [
      "{10, 20, 30}\n"
     ]
    }
   ],
   "source": [
    "#Sets in Python\n",
    "#Creating Sets in Python\n",
    "s1={10,20,30}\n",
    "print(s1)"
   ]
  },
  {
   "cell_type": "code",
   "execution_count": 2,
   "id": "ea2c05cf-a45c-44bf-abcc-1b86acb7bdf8",
   "metadata": {},
   "outputs": [
    {
     "name": "stdout",
     "output_type": "stream",
     "text": [
      "{10, 20, 30}\n"
     ]
    }
   ],
   "source": [
    "s2=set([10,20,30])\n",
    "print(s2)"
   ]
  },
  {
   "cell_type": "code",
   "execution_count": 3,
   "id": "fee6e03e-e396-433d-964c-cf41410e9b8d",
   "metadata": {},
   "outputs": [
    {
     "name": "stdout",
     "output_type": "stream",
     "text": [
      "<class 'dict'>\n"
     ]
    }
   ],
   "source": [
    "s3={}\n",
    "print(type(s3))"
   ]
  },
  {
   "cell_type": "code",
   "execution_count": 5,
   "id": "7665d7d6-3fa3-42b8-9379-b05a4887b877",
   "metadata": {},
   "outputs": [
    {
     "name": "stdout",
     "output_type": "stream",
     "text": [
      "set()\n",
      "<class 'set'>\n"
     ]
    }
   ],
   "source": [
    "s4=set()\n",
    "print(s4)\n",
    "print(type(s4))"
   ]
  },
  {
   "cell_type": "code",
   "execution_count": 6,
   "id": "4d66d8ac-fb3e-400f-aee8-99a97ad3a673",
   "metadata": {},
   "outputs": [
    {
     "name": "stdout",
     "output_type": "stream",
     "text": [
      "{10, 20, 30}\n"
     ]
    }
   ],
   "source": [
    "#Adding Elements to a Set\n",
    "s={10,20}\n",
    "s.add(30)\n",
    "print(s)"
   ]
  },
  {
   "cell_type": "code",
   "execution_count": 8,
   "id": "e894f828-47f1-4923-8295-4280093004f2",
   "metadata": {},
   "outputs": [
    {
     "name": "stdout",
     "output_type": "stream",
     "text": [
      "{40, 10, 50, 20, 30}\n"
     ]
    }
   ],
   "source": [
    "s.update([40,50])\n",
    "print(s)"
   ]
  },
  {
   "cell_type": "code",
   "execution_count": 11,
   "id": "7ab2fc6e-68b7-4729-acc2-b75c873f34e1",
   "metadata": {},
   "outputs": [
    {
     "name": "stdout",
     "output_type": "stream",
     "text": [
      "set()\n"
     ]
    }
   ],
   "source": [
    "s={10,20,30,40,50}\n",
    "s.clear()\n",
    "print(s)"
   ]
  },
  {
   "cell_type": "code",
   "execution_count": 9,
   "id": "3267ff14-b285-45e6-82df-9eaae2412f5e",
   "metadata": {},
   "outputs": [
    {
     "name": "stdout",
     "output_type": "stream",
     "text": [
      "{50, 20, 40, 30}\n"
     ]
    }
   ],
   "source": [
    "#Removing Elements from a Set\n",
    "s={10,20,30,40,50}\n",
    "s.remove(10)\n",
    "print(s)"
   ]
  },
  {
   "cell_type": "code",
   "execution_count": 10,
   "id": "8a468060-47cb-4320-b705-066d4a6a4671",
   "metadata": {},
   "outputs": [
    {
     "name": "stdout",
     "output_type": "stream",
     "text": [
      "{50, 40, 10, 30}\n"
     ]
    }
   ],
   "source": [
    "#remove(): Removes an item if it exists. If the item is not present, it raises an error.\n",
    "s={10,20,30,40,50}\n",
    "s.remove(20)\n",
    "print(s)"
   ]
  },
  {
   "cell_type": "code",
   "execution_count": 12,
   "id": "e1cbd26b-2978-4a1e-9d26-8d18837a457d",
   "metadata": {},
   "outputs": [
    {
     "name": "stdout",
     "output_type": "stream",
     "text": [
      "{50, 20, 40, 30}\n"
     ]
    }
   ],
   "source": [
    "#discard(): Removes an item if it exists. If the item is not present, it does nothing.\n",
    "s={10,20,30,40,50}\n",
    "s.discard(10)  \n",
    "print(s)"
   ]
  },
  {
   "cell_type": "code",
   "execution_count": 13,
   "id": "7a306265-67d6-425b-971e-debf8fdf60b6",
   "metadata": {},
   "outputs": [
    {
     "name": "stdout",
     "output_type": "stream",
     "text": [
      "5\n"
     ]
    }
   ],
   "source": [
    "#Other Set Operations\n",
    "s={10,20,30,40,50}\n",
    "print(len(s))"
   ]
  },
  {
   "cell_type": "code",
   "execution_count": 14,
   "id": "e8ac4b17-6fbf-4ff6-817c-a3edc22f2df9",
   "metadata": {},
   "outputs": [
    {
     "name": "stdout",
     "output_type": "stream",
     "text": [
      "True\n"
     ]
    }
   ],
   "source": [
    "print(10 in s)"
   ]
  },
  {
   "cell_type": "code",
   "execution_count": 15,
   "id": "a82598be-7d9c-4e70-a24b-3a6c4c9dbd3d",
   "metadata": {},
   "outputs": [
    {
     "name": "stdout",
     "output_type": "stream",
     "text": [
      "False\n"
     ]
    }
   ],
   "source": [
    "print(15 in s)"
   ]
  },
  {
   "cell_type": "code",
   "execution_count": 21,
   "id": "ed0af16d-48d9-44da-bffd-7702d78acaf6",
   "metadata": {},
   "outputs": [
    {
     "name": "stdout",
     "output_type": "stream",
     "text": [
      "{50, 20, 40, 10, 60, 30}\n"
     ]
    }
   ],
   "source": [
    "s1={10,20,30}\n",
    "s2={40,50,60}\n",
    "print(s1 | s2) #Union (|): Combines all unique elements from both sets."
   ]
  },
  {
   "cell_type": "code",
   "execution_count": 23,
   "id": "0fbbc7c2-01a9-42f2-af00-bc17a412a9c8",
   "metadata": {},
   "outputs": [
    {
     "name": "stdout",
     "output_type": "stream",
     "text": [
      "{30}\n"
     ]
    }
   ],
   "source": [
    "s1={10,20,30}\n",
    "s2={40,50,60,30}\n",
    "print(s1 & s2) #Intersection (&): Returns only the common elements between the sets."
   ]
  },
  {
   "cell_type": "code",
   "execution_count": 24,
   "id": "6a313234-09cc-488c-a11f-d069c33069e6",
   "metadata": {},
   "outputs": [
    {
     "name": "stdout",
     "output_type": "stream",
     "text": [
      "{10, 20}\n"
     ]
    }
   ],
   "source": [
    "s1={10,20,30}\n",
    "s2={40,50,60,30}\n",
    "print(s1 - s2)#Difference (-): Returns elements present in the first set but not in the second."
   ]
  },
  {
   "cell_type": "code",
   "execution_count": 26,
   "id": "a82805db-cb0e-4f77-a007-96a2f4cbe5b6",
   "metadata": {},
   "outputs": [
    {
     "name": "stdout",
     "output_type": "stream",
     "text": [
      "{40, 10, 50, 20, 60}\n"
     ]
    }
   ],
   "source": [
    "s1={10,20,30}\n",
    "s2={40,50,60,30}\n",
    "print(s1 ^ s2)#Symmetric Difference (^): Returns elements present in either set but not in both."
   ]
  },
  {
   "cell_type": "code",
   "execution_count": 29,
   "id": "7cd4c077-a742-4d59-be38-23bfbd20b487",
   "metadata": {},
   "outputs": [
    {
     "name": "stdout",
     "output_type": "stream",
     "text": [
      "False\n"
     ]
    }
   ],
   "source": [
    "#Subset and Superset Operations\n",
    "s1 = {2, 4, 6, 8}\n",
    "s2 = {4, 8}\n",
    "print(s1.isdisjoint(s2)) "
   ]
  },
  {
   "cell_type": "code",
   "execution_count": 30,
   "id": "8f020ba8-0c34-4b58-8bff-b14ebe34ebf1",
   "metadata": {},
   "outputs": [
    {
     "name": "stdout",
     "output_type": "stream",
     "text": [
      "False\n"
     ]
    }
   ],
   "source": [
    "s1 = {2, 4, 6, 8}\n",
    "s2 = {4, 8}\n",
    "print(s1.issubset(s2)) "
   ]
  },
  {
   "cell_type": "code",
   "execution_count": 33,
   "id": "498be3cf-ed84-43a8-9cfc-ff4d5f16091d",
   "metadata": {},
   "outputs": [
    {
     "name": "stdout",
     "output_type": "stream",
     "text": [
      "True\n"
     ]
    }
   ],
   "source": [
    "s1 = {2, 4, 6, 8}\n",
    "s2 = {4, 8}\n",
    "print(s1 >= s2) #Superset (>=): Checks if the first set contains all elements of the second set."
   ]
  },
  {
   "cell_type": "code",
   "execution_count": 34,
   "id": "8d290c92-3381-4c77-9be5-5a7a570fe837",
   "metadata": {},
   "outputs": [
    {
     "name": "stdout",
     "output_type": "stream",
     "text": [
      "True\n"
     ]
    }
   ],
   "source": [
    "s1 = {2, 4, 6, 8}\n",
    "s2 = {4, 8}\n",
    "print(s1 > s2) #Proper Superset (>): Similar to superset but does not allow both sets to be equal."
   ]
  },
  {
   "cell_type": "code",
   "execution_count": 35,
   "id": "f0beddf1-19fa-4564-8fb5-4645116f16e9",
   "metadata": {},
   "outputs": [
    {
     "name": "stdout",
     "output_type": "stream",
     "text": [
      "False\n"
     ]
    }
   ],
   "source": [
    "s1 = {2, 4, 6, 8}\n",
    "s2 = {4, 8}\n",
    "print(s1 < s2)#Proper Subset (<): Similar to subset but does not allow both sets to be equal."
   ]
  },
  {
   "cell_type": "code",
   "execution_count": 36,
   "id": "19538cde-e207-4ecd-ae2b-d54b20ab3f43",
   "metadata": {},
   "outputs": [
    {
     "name": "stdout",
     "output_type": "stream",
     "text": [
      "False\n"
     ]
    }
   ],
   "source": [
    "s1 = {2, 4, 6, 8}\n",
    "s2 = {4, 8}\n",
    "print(s1 <= s2)  #Subset (<=): Checks if all elements of the first set are in the second set."
   ]
  }
 ],
 "metadata": {
  "kernelspec": {
   "display_name": "Python 3 (ipykernel)",
   "language": "python",
   "name": "python3"
  },
  "language_info": {
   "codemirror_mode": {
    "name": "ipython",
    "version": 3
   },
   "file_extension": ".py",
   "mimetype": "text/x-python",
   "name": "python",
   "nbconvert_exporter": "python",
   "pygments_lexer": "ipython3",
   "version": "3.12.7"
  }
 },
 "nbformat": 4,
 "nbformat_minor": 5
}
