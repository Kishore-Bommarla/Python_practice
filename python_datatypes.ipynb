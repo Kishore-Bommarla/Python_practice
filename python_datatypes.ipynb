{
 "cells": [
  {
   "cell_type": "code",
   "execution_count": null,
   "id": "23228544-0874-4a86-b9ce-d5ebbe36a04f",
   "metadata": {},
   "outputs": [],
   "source": [
    "#MY PROGRAMS PRACTICE"
   ]
  },
  {
   "cell_type": "code",
   "execution_count": 1,
   "id": "f9aa816b-9871-442e-bf49-703e25b3ebe9",
   "metadata": {},
   "outputs": [
    {
     "name": "stdout",
     "output_type": "stream",
     "text": [
      "hello world\n"
     ]
    }
   ],
   "source": [
    "#first Python Program\n",
    "\n",
    "print(\"hello world\")"
   ]
  },
  {
   "cell_type": "code",
   "execution_count": 2,
   "id": "a5b1195a-ccc7-4ffc-9e4f-67ab38c19f07",
   "metadata": {},
   "outputs": [
    {
     "name": "stdout",
     "output_type": "stream",
     "text": [
      "38\n",
      "Kishore\n",
      "50.5\n"
     ]
    }
   ],
   "source": [
    "#variables\n",
    "age=38\n",
    "name=\"Kishore\"\n",
    "weight=50.5\n",
    "print(age)\n",
    "print(name)\n",
    "print(weight)\n"
   ]
  },
  {
   "cell_type": "code",
   "execution_count": 12,
   "id": "bb656f6e-cd41-4a2a-b1ca-99cf476ce9fd",
   "metadata": {},
   "outputs": [
    {
     "name": "stdout",
     "output_type": "stream",
     "text": [
      "118\n"
     ]
    }
   ],
   "source": [
    "#Using Variables in Computations\n",
    "price = 100\n",
    "tax =18\n",
    "print(price+tax)"
   ]
  },
  {
   "cell_type": "code",
   "execution_count": 7,
   "id": "34fd444c-02de-4e07-8cd9-db2a7fdf1daa",
   "metadata": {},
   "outputs": [
    {
     "name": "stdout",
     "output_type": "stream",
     "text": [
      "10 kishore 20 30\n"
     ]
    }
   ],
   "source": [
    "#How Variables Work Internally\n",
    "x=10\n",
    "y=\"kishore\"\n",
    "z=20\n",
    "w=z\n",
    "w=30\n",
    "print(x,y,z,w)"
   ]
  },
  {
   "cell_type": "code",
   "execution_count": 8,
   "id": "f3761a9a-4496-4c31-8ef2-0a012ccbd954",
   "metadata": {},
   "outputs": [
    {
     "name": "stdout",
     "output_type": "stream",
     "text": [
      "True\n",
      "90\n",
      "3.14\n",
      "Noida\n"
     ]
    }
   ],
   "source": [
    "#python is dynamically typed\n",
    "\n",
    "is_valid=True\n",
    "marks=90\n",
    "pi=3.14\n",
    "city_name=\"Noida\"\n",
    "print(is_valid)\n",
    "print(marks)\n",
    "print(pi)\n",
    "print(city_name)"
   ]
  },
  {
   "cell_type": "code",
   "execution_count": 13,
   "id": "338b035b-e23a-47d7-9d57-6d8228030016",
   "metadata": {},
   "outputs": [
    {
     "name": "stdout",
     "output_type": "stream",
     "text": [
      "10\n",
      "Kishore\n"
     ]
    }
   ],
   "source": [
    "#Dynamically Typed Nature of Python\n",
    "x=10\n",
    "print(x)\n",
    "\n",
    "x=\"Kishore\"\n",
    "print(x)"
   ]
  },
  {
   "cell_type": "code",
   "execution_count": 15,
   "id": "532460a1-b68b-464b-818a-ba0dcbb58a56",
   "metadata": {},
   "outputs": [
    {
     "name": "stdout",
     "output_type": "stream",
     "text": [
      "None\n"
     ]
    }
   ],
   "source": [
    "#Special Value: None\n",
    "x=None\n",
    "print(x)"
   ]
  },
  {
   "cell_type": "code",
   "execution_count": 14,
   "id": "c3c3b91d-a44e-491c-8e58-241fb0e245d4",
   "metadata": {},
   "outputs": [
    {
     "name": "stdout",
     "output_type": "stream",
     "text": [
      "True\n",
      "False\n"
     ]
    }
   ],
   "source": [
    "#Boolean Variables\n",
    "is_valid=True\n",
    "isnt_valid=False\n",
    "print(is_valid)\n",
    "print(isnt_valid)"
   ]
  },
  {
   "cell_type": "code",
   "execution_count": 16,
   "id": "7a6592b1-c0a1-4c11-aea3-34afed4625bc",
   "metadata": {},
   "outputs": [
    {
     "name": "stdout",
     "output_type": "stream",
     "text": [
      "Student\n",
      "Student\n"
     ]
    }
   ],
   "source": [
    "#Wrong Approach Using a Temporary Variable\n",
    "x=\"kishore\"\n",
    "y=\"Student\"\n",
    "x=y\n",
    "y=x\n",
    "print(x)\n",
    "print(y)"
   ]
  },
  {
   "cell_type": "code",
   "execution_count": 17,
   "id": "74ee674e-67e7-4d9c-8a4c-26c782f6d11e",
   "metadata": {},
   "outputs": [
    {
     "name": "stdout",
     "output_type": "stream",
     "text": [
      "Student\n",
      "kishore\n"
     ]
    }
   ],
   "source": [
    "#Correct Approach Using a Temporary Variable\n",
    "x=\"kishore\"\n",
    "y=\"Student\"\n",
    "temp=x\n",
    "x=y\n",
    "y=temp\n",
    "print(x)\n",
    "print(y)"
   ]
  },
  {
   "cell_type": "code",
   "execution_count": 18,
   "id": "48963946-0c0d-4a4a-ba26-70833ab5dba0",
   "metadata": {},
   "outputs": [
    {
     "name": "stdout",
     "output_type": "stream",
     "text": [
      "Student Kishore\n"
     ]
    }
   ],
   "source": [
    "#Pythonic Way to Swap Variables\n",
    "x=\"Kishore\"\n",
    "y=\"Student\"\n",
    "x,y=y,x\n",
    "print(x,y)"
   ]
  },
  {
   "cell_type": "code",
   "execution_count": 19,
   "id": "b044dc2b-56cd-47df-b947-4db426e12029",
   "metadata": {},
   "outputs": [
    {
     "name": "stdout",
     "output_type": "stream",
     "text": [
      "10\n",
      "kishore\n",
      "20\n"
     ]
    }
   ],
   "source": [
    "#Assigning Multiple Values to Multiple Variables\n",
    "x,y,z=10,\"kishore\",20\n",
    "print(x)\n",
    "print(y)\n",
    "print(z)"
   ]
  },
  {
   "cell_type": "code",
   "execution_count": 20,
   "id": "850553e0-dd44-4441-a5f7-0ee732b26c9b",
   "metadata": {},
   "outputs": [
    {
     "name": "stdout",
     "output_type": "stream",
     "text": [
      "110 Kishore4\n"
     ]
    }
   ],
   "source": [
    "x=100\n",
    "y=\"Kishore\"\n",
    "x,y=x+10,y+\"4\"\n",
    "print(x,y)"
   ]
  },
  {
   "cell_type": "code",
   "execution_count": 21,
   "id": "2787e90e-3183-4e63-9e79-be918737760f",
   "metadata": {},
   "outputs": [
    {
     "name": "stdout",
     "output_type": "stream",
     "text": [
      "140716508523064\n",
      "140716508523224\n",
      "140716508523224\n"
     ]
    }
   ],
   "source": [
    "#Understanding the Function in Python\n",
    "print(id(5))\n",
    "x=10\n",
    "print(id(x))\n",
    "y=x\n",
    "print(id(y))"
   ]
  },
  {
   "cell_type": "code",
   "execution_count": 22,
   "id": "1d0224e3-7ffb-4a6a-bbba-4cf0f7944a03",
   "metadata": {},
   "outputs": [
    {
     "name": "stdout",
     "output_type": "stream",
     "text": [
      "140716508523224\n",
      "140716508523224\n"
     ]
    }
   ],
   "source": [
    "#How id() Works\n",
    "a=10\n",
    "b=10\n",
    "print(id(a))\n",
    "print(id(b))"
   ]
  },
  {
   "cell_type": "code",
   "execution_count": 23,
   "id": "73237451-1a1c-4d1c-a2c1-6f5821d10ee9",
   "metadata": {},
   "outputs": [
    {
     "name": "stdout",
     "output_type": "stream",
     "text": [
      "True\n"
     ]
    }
   ],
   "source": [
    "#Internals of the id() Function\n",
    "a=10\n",
    "b=10\n",
    "print(a is b)"
   ]
  },
  {
   "cell_type": "code",
   "execution_count": 24,
   "id": "aa802716-9fa5-4dfb-98f2-4ef53eaac6a1",
   "metadata": {},
   "outputs": [
    {
     "name": "stdout",
     "output_type": "stream",
     "text": [
      "False\n"
     ]
    }
   ],
   "source": [
    "#Reassigning Variables\n",
    "a=10\n",
    "b=a\n",
    "b=20\n",
    "print(a is b)"
   ]
  },
  {
   "cell_type": "code",
   "execution_count": 25,
   "id": "a38be6b3-fd69-4e08-a3dc-b7f9588f81c2",
   "metadata": {},
   "outputs": [
    {
     "name": "stdout",
     "output_type": "stream",
     "text": [
      "<class 'int'>\n"
     ]
    }
   ],
   "source": [
    "#Integer Type\n",
    "a=10\n",
    "print(type(a))"
   ]
  },
  {
   "cell_type": "code",
   "execution_count": 27,
   "id": "2c7e7095-cd22-4e94-bc41-9e34e1f96fa1",
   "metadata": {},
   "outputs": [
    {
     "name": "stdout",
     "output_type": "stream",
     "text": [
      "<class 'float'>\n"
     ]
    }
   ],
   "source": [
    "#Float Type\n",
    "a=10.5\n",
    "print(type(a))"
   ]
  },
  {
   "cell_type": "code",
   "execution_count": 28,
   "id": "b577e996-8574-48e6-bfae-9e39b8ab8b3b",
   "metadata": {},
   "outputs": [
    {
     "name": "stdout",
     "output_type": "stream",
     "text": [
      "<class 'complex'>\n"
     ]
    }
   ],
   "source": [
    "#Complex Type:\n",
    "a=2+4j\n",
    "print(type(a))"
   ]
  },
  {
   "cell_type": "code",
   "execution_count": 29,
   "id": "50b57e2e-4309-48f0-9118-9bb815c5b6db",
   "metadata": {},
   "outputs": [
    {
     "name": "stdout",
     "output_type": "stream",
     "text": [
      "<class 'bool'>\n"
     ]
    }
   ],
   "source": [
    "#boolean Type\n",
    "a=True\n",
    "print(type(a))"
   ]
  },
  {
   "cell_type": "code",
   "execution_count": 30,
   "id": "53889d93-b6bc-4c77-92ef-69f7db887b0a",
   "metadata": {},
   "outputs": [
    {
     "name": "stdout",
     "output_type": "stream",
     "text": [
      "<class 'NoneType'>\n"
     ]
    }
   ],
   "source": [
    "a=None\n",
    "print(type(a))"
   ]
  },
  {
   "cell_type": "code",
   "execution_count": 31,
   "id": "ccac19bb-beb6-4a52-8922-8fbc4720ba46",
   "metadata": {},
   "outputs": [
    {
     "name": "stdout",
     "output_type": "stream",
     "text": [
      "<class 'str'>\n"
     ]
    }
   ],
   "source": [
    "#Sequence Types in Python\n",
    "# String Type:\n",
    "a=\"kishore\"\n",
    "print(type(a))"
   ]
  },
  {
   "cell_type": "code",
   "execution_count": 32,
   "id": "24da6b02-d137-4677-8e18-5fb24c06c8f6",
   "metadata": {},
   "outputs": [
    {
     "name": "stdout",
     "output_type": "stream",
     "text": [
      "<class 'list'>\n"
     ]
    }
   ],
   "source": [
    "#List Type:\n",
    "a=[1,2,3]\n",
    "print(type(a))"
   ]
  },
  {
   "cell_type": "code",
   "execution_count": 33,
   "id": "5ee59a3d-3e9e-4b83-b0f4-e3f8ebd1603a",
   "metadata": {},
   "outputs": [
    {
     "name": "stdout",
     "output_type": "stream",
     "text": [
      "<class 'tuple'>\n"
     ]
    }
   ],
   "source": [
    "#tuple\n",
    "a=(1,2,3)\n",
    "print(type(a))"
   ]
  },
  {
   "cell_type": "code",
   "execution_count": 34,
   "id": "afae32db-ef33-4908-8225-7569fdadf50c",
   "metadata": {},
   "outputs": [
    {
     "name": "stdout",
     "output_type": "stream",
     "text": [
      "<class 'set'>\n"
     ]
    }
   ],
   "source": [
    "#set type\n",
    "a={10,20,30}\n",
    "print(type(a))"
   ]
  },
  {
   "cell_type": "code",
   "execution_count": 37,
   "id": "b6b67990-a04e-4ab1-93d8-b0568830d84e",
   "metadata": {},
   "outputs": [
    {
     "name": "stdout",
     "output_type": "stream",
     "text": [
      "<class 'dict'>\n"
     ]
    }
   ],
   "source": [
    "#dictionary\n",
    "a={10:\"kishore\",20:\"ID\"}\n",
    "print(type(a))"
   ]
  },
  {
   "cell_type": "code",
   "execution_count": 40,
   "id": "3a11e877-b182-482a-b5ed-c8fa66313e87",
   "metadata": {},
   "outputs": [
    {
     "name": "stdout",
     "output_type": "stream",
     "text": [
      "[10, 20, 30, 40, 50]\n",
      "20\n",
      "50\n",
      "10\n"
     ]
    }
   ],
   "source": [
    "#Accessing List Items\n",
    "a=[10,20,30,40,50]\n",
    "print(a)\n",
    "print(a[1])\n",
    "print(a[-1])\n",
    "print(a[0])"
   ]
  },
  {
   "cell_type": "code",
   "execution_count": 43,
   "id": "8780785b-89f5-454d-8233-eb539a8f5618",
   "metadata": {},
   "outputs": [
    {
     "name": "stdout",
     "output_type": "stream",
     "text": [
      "[10, 20, 30, 40, 50, 60]\n"
     ]
    }
   ],
   "source": [
    "#Modifying Lists\n",
    "#Appending Items\n",
    "a=[10,20,30,40,50]\n",
    "a.append(60)\n",
    "print(a)"
   ]
  },
  {
   "cell_type": "code",
   "execution_count": 44,
   "id": "8cdfda0f-0600-4abc-a736-73ed6e3fa9cc",
   "metadata": {},
   "outputs": [
    {
     "name": "stdout",
     "output_type": "stream",
     "text": [
      "[10, 15, 20, 30, 40, 50]\n"
     ]
    }
   ],
   "source": [
    "#inserting items\n",
    "a=[10,20,30,40,50]\n",
    "a.insert(1,15)\n",
    "print(a)"
   ]
  },
  {
   "cell_type": "code",
   "execution_count": 45,
   "id": "a4ed769b-fc05-4bfa-94f3-d5f3bba53832",
   "metadata": {},
   "outputs": [
    {
     "name": "stdout",
     "output_type": "stream",
     "text": [
      "False\n",
      "True\n"
     ]
    }
   ],
   "source": [
    "#Checking for Items\n",
    "a=[10,20,30,40,50]\n",
    "print(15 in a)\n",
    "print(10 in a)"
   ]
  },
  {
   "cell_type": "code",
   "execution_count": 49,
   "id": "1a739c4d-d133-4465-878d-d7ee1b8225ee",
   "metadata": {},
   "outputs": [
    {
     "name": "stdout",
     "output_type": "stream",
     "text": [
      "2\n"
     ]
    }
   ],
   "source": [
    "#Counting Items\n",
    "a=[10,20,30,40,50,30]\n",
    "print(a.count(30))"
   ]
  },
  {
   "cell_type": "code",
   "execution_count": 50,
   "id": "321f9004-a4ba-472d-9c71-bcf131ef278d",
   "metadata": {},
   "outputs": [
    {
     "name": "stdout",
     "output_type": "stream",
     "text": [
      "1\n"
     ]
    }
   ],
   "source": [
    "#Finding Index\n",
    "a=[10,20,30,40,50]\n",
    "print(a.index(20))"
   ]
  },
  {
   "cell_type": "code",
   "execution_count": 51,
   "id": "165806e3-d404-4be9-bd18-a6e13d16598c",
   "metadata": {},
   "outputs": [
    {
     "name": "stdout",
     "output_type": "stream",
     "text": [
      "[10, 20, 40, 50]\n"
     ]
    }
   ],
   "source": [
    "#Removing Items\n",
    "#Remove by Value\n",
    "a=[10,20,30,40,50]\n",
    "a.remove(30)\n",
    "print(a)"
   ]
  },
  {
   "cell_type": "code",
   "execution_count": 54,
   "id": "a8a2665c-0a59-4b43-a27b-6bfbef92ebc5",
   "metadata": {},
   "outputs": [
    {
     "name": "stdout",
     "output_type": "stream",
     "text": [
      "[10, 20, 30, 40, 50]\n",
      "[10, 30, 40, 50]\n"
     ]
    }
   ],
   "source": [
    "#Remove by Index\n",
    "a=[10,20,30,40,50,60]\n",
    "a.pop()\n",
    "print(a)\n",
    "a.pop(1)\n",
    "print(a)"
   ]
  },
  {
   "cell_type": "code",
   "execution_count": 55,
   "id": "b4089604-1003-476f-a88e-fbb2a7b495f4",
   "metadata": {},
   "outputs": [
    {
     "name": "stdout",
     "output_type": "stream",
     "text": [
      "[10, 30, 40, 50, 60]\n"
     ]
    }
   ],
   "source": [
    "#Using del\n",
    "a=[10,20,30,40,50,60]\n",
    "del a[1]\n",
    "print(a)"
   ]
  },
  {
   "cell_type": "code",
   "execution_count": 60,
   "id": "84e03b82-59d8-435a-ae68-7ec121ee1118",
   "metadata": {},
   "outputs": [
    {
     "name": "stdout",
     "output_type": "stream",
     "text": [
      "60\n",
      "10\n",
      "210\n"
     ]
    }
   ],
   "source": [
    "#General List Functions\n",
    "#Maximum, Minimum, Sum\n",
    "a=[10,20,30,40,50,60]\n",
    "print(max(a))\n",
    "print(min(a))\n",
    "print(sum(a))"
   ]
  },
  {
   "cell_type": "code",
   "execution_count": 61,
   "id": "76b601f1-38f5-4150-bc01-5946c50acb69",
   "metadata": {},
   "outputs": [
    {
     "name": "stdout",
     "output_type": "stream",
     "text": [
      "[60, 50, 40, 30, 20, 10]\n"
     ]
    }
   ],
   "source": [
    "#Reversing a List\n",
    "a=[10,20,30,40,50,60]\n",
    "a.reverse()\n",
    "print(a)"
   ]
  },
  {
   "cell_type": "code",
   "execution_count": 62,
   "id": "bb1f9962-f708-4a8f-a383-3c0b7062ac13",
   "metadata": {},
   "outputs": [
    {
     "name": "stdout",
     "output_type": "stream",
     "text": [
      "[9, 10, 15, 20, 50, 70]\n"
     ]
    }
   ],
   "source": [
    "#Sorting a List\n",
    "b=[20,50,70,10,15,9]\n",
    "b.sort()\n",
    "print(b)"
   ]
  },
  {
   "cell_type": "code",
   "execution_count": null,
   "id": "282952b3-95b8-4556-bed2-aceb9c5d77a3",
   "metadata": {},
   "outputs": [],
   "source": []
  }
 ],
 "metadata": {
  "kernelspec": {
   "display_name": "Python 3 (ipykernel)",
   "language": "python",
   "name": "python3"
  },
  "language_info": {
   "codemirror_mode": {
    "name": "ipython",
    "version": 3
   },
   "file_extension": ".py",
   "mimetype": "text/x-python",
   "name": "python",
   "nbconvert_exporter": "python",
   "pygments_lexer": "ipython3",
   "version": "3.12.7"
  }
 },
 "nbformat": 4,
 "nbformat_minor": 5
}
